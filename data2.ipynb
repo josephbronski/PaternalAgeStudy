{
 "cells": [
  {
   "cell_type": "code",
   "execution_count": 8,
   "id": "1c77220f",
   "metadata": {},
   "outputs": [],
   "source": [
    "from charts import *"
   ]
  },
  {
   "cell_type": "code",
   "execution_count": 9,
   "id": "fb2bba47",
   "metadata": {},
   "outputs": [
    {
     "data": {
      "text/plain": [
       "<module 'charts' from '/Users/victor/Dropbox/data/paternalAgeStudy/charts.py'>"
      ]
     },
     "execution_count": 9,
     "metadata": {},
     "output_type": "execute_result"
    }
   ],
   "source": [
    "import importlib\n",
    "importlib.reload(charts)"
   ]
  },
  {
   "cell_type": "code",
   "execution_count": 10,
   "id": "4e1bf692",
   "metadata": {},
   "outputs": [],
   "source": [
    "df = pd.read_csv('cleaned2.csv')"
   ]
  },
  {
   "cell_type": "code",
   "execution_count": 11,
   "id": "f2df99b2",
   "metadata": {},
   "outputs": [
    {
     "data": {
      "text/html": [
       "<div>\n",
       "<style scoped>\n",
       "    .dataframe tbody tr th:only-of-type {\n",
       "        vertical-align: middle;\n",
       "    }\n",
       "\n",
       "    .dataframe tbody tr th {\n",
       "        vertical-align: top;\n",
       "    }\n",
       "\n",
       "    .dataframe thead th {\n",
       "        text-align: right;\n",
       "    }\n",
       "</style>\n",
       "<table border=\"1\" class=\"dataframe\">\n",
       "  <thead>\n",
       "    <tr style=\"text-align: right;\">\n",
       "      <th></th>\n",
       "      <th>Party</th>\n",
       "      <th>Wingness</th>\n",
       "      <th>LGBT</th>\n",
       "      <th>BLM</th>\n",
       "      <th>Feminism</th>\n",
       "      <th>&gt;35 kids</th>\n",
       "      <th>&lt;35 kids</th>\n",
       "      <th>wifeLGBT</th>\n",
       "      <th>wifeBLM</th>\n",
       "      <th>wifeFeminism</th>\n",
       "      <th>Leftism</th>\n",
       "      <th>wifeLeftism</th>\n",
       "    </tr>\n",
       "  </thead>\n",
       "  <tbody>\n",
       "    <tr>\n",
       "      <th>0</th>\n",
       "      <td>Republican</td>\n",
       "      <td>Right-wing</td>\n",
       "      <td>0</td>\n",
       "      <td>0</td>\n",
       "      <td>0</td>\n",
       "      <td>0</td>\n",
       "      <td>1</td>\n",
       "      <td>-1.0</td>\n",
       "      <td>-1.0</td>\n",
       "      <td>-1.0</td>\n",
       "      <td>0</td>\n",
       "      <td>0</td>\n",
       "    </tr>\n",
       "    <tr>\n",
       "      <th>1</th>\n",
       "      <td>Republican</td>\n",
       "      <td>Right-wing</td>\n",
       "      <td>0</td>\n",
       "      <td>0</td>\n",
       "      <td>0</td>\n",
       "      <td>0</td>\n",
       "      <td>1</td>\n",
       "      <td>-1.0</td>\n",
       "      <td>-1.0</td>\n",
       "      <td>-1.0</td>\n",
       "      <td>0</td>\n",
       "      <td>0</td>\n",
       "    </tr>\n",
       "    <tr>\n",
       "      <th>2</th>\n",
       "      <td>Republican</td>\n",
       "      <td>Right-wing</td>\n",
       "      <td>0</td>\n",
       "      <td>0</td>\n",
       "      <td>1</td>\n",
       "      <td>1</td>\n",
       "      <td>0</td>\n",
       "      <td>-1.0</td>\n",
       "      <td>0.5</td>\n",
       "      <td>-1.0</td>\n",
       "      <td>0</td>\n",
       "      <td>0</td>\n",
       "    </tr>\n",
       "    <tr>\n",
       "      <th>3</th>\n",
       "      <td>Independent</td>\n",
       "      <td>Centrist</td>\n",
       "      <td>1</td>\n",
       "      <td>1</td>\n",
       "      <td>1</td>\n",
       "      <td>0</td>\n",
       "      <td>2</td>\n",
       "      <td>0.5</td>\n",
       "      <td>0.5</td>\n",
       "      <td>0.5</td>\n",
       "      <td>1</td>\n",
       "      <td>1</td>\n",
       "    </tr>\n",
       "    <tr>\n",
       "      <th>4</th>\n",
       "      <td>Independent</td>\n",
       "      <td>Centrist</td>\n",
       "      <td>1</td>\n",
       "      <td>1</td>\n",
       "      <td>1</td>\n",
       "      <td>0</td>\n",
       "      <td>2</td>\n",
       "      <td>0.5</td>\n",
       "      <td>1.0</td>\n",
       "      <td>0.5</td>\n",
       "      <td>1</td>\n",
       "      <td>1</td>\n",
       "    </tr>\n",
       "    <tr>\n",
       "      <th>...</th>\n",
       "      <td>...</td>\n",
       "      <td>...</td>\n",
       "      <td>...</td>\n",
       "      <td>...</td>\n",
       "      <td>...</td>\n",
       "      <td>...</td>\n",
       "      <td>...</td>\n",
       "      <td>...</td>\n",
       "      <td>...</td>\n",
       "      <td>...</td>\n",
       "      <td>...</td>\n",
       "      <td>...</td>\n",
       "    </tr>\n",
       "    <tr>\n",
       "      <th>233</th>\n",
       "      <td>Democratic</td>\n",
       "      <td>Left-wing</td>\n",
       "      <td>1</td>\n",
       "      <td>1</td>\n",
       "      <td>1</td>\n",
       "      <td>2</td>\n",
       "      <td>0</td>\n",
       "      <td>0.5</td>\n",
       "      <td>1.0</td>\n",
       "      <td>1.0</td>\n",
       "      <td>1</td>\n",
       "      <td>1</td>\n",
       "    </tr>\n",
       "    <tr>\n",
       "      <th>234</th>\n",
       "      <td>Democratic</td>\n",
       "      <td>Left-wing</td>\n",
       "      <td>1</td>\n",
       "      <td>1</td>\n",
       "      <td>1</td>\n",
       "      <td>2</td>\n",
       "      <td>1</td>\n",
       "      <td>1.0</td>\n",
       "      <td>1.0</td>\n",
       "      <td>1.0</td>\n",
       "      <td>1</td>\n",
       "      <td>1</td>\n",
       "    </tr>\n",
       "    <tr>\n",
       "      <th>235</th>\n",
       "      <td>Democratic</td>\n",
       "      <td>Left-wing</td>\n",
       "      <td>1</td>\n",
       "      <td>1</td>\n",
       "      <td>1</td>\n",
       "      <td>0</td>\n",
       "      <td>2</td>\n",
       "      <td>1.0</td>\n",
       "      <td>1.0</td>\n",
       "      <td>1.0</td>\n",
       "      <td>1</td>\n",
       "      <td>1</td>\n",
       "    </tr>\n",
       "    <tr>\n",
       "      <th>236</th>\n",
       "      <td>Democratic</td>\n",
       "      <td>Left-wing</td>\n",
       "      <td>1</td>\n",
       "      <td>1</td>\n",
       "      <td>1</td>\n",
       "      <td>0</td>\n",
       "      <td>4</td>\n",
       "      <td>1.0</td>\n",
       "      <td>1.0</td>\n",
       "      <td>1.0</td>\n",
       "      <td>1</td>\n",
       "      <td>1</td>\n",
       "    </tr>\n",
       "    <tr>\n",
       "      <th>237</th>\n",
       "      <td>Independent</td>\n",
       "      <td>Centrist</td>\n",
       "      <td>1</td>\n",
       "      <td>0</td>\n",
       "      <td>1</td>\n",
       "      <td>1</td>\n",
       "      <td>2</td>\n",
       "      <td>1.0</td>\n",
       "      <td>1.0</td>\n",
       "      <td>1.0</td>\n",
       "      <td>0</td>\n",
       "      <td>1</td>\n",
       "    </tr>\n",
       "  </tbody>\n",
       "</table>\n",
       "<p>238 rows × 12 columns</p>\n",
       "</div>"
      ],
      "text/plain": [
       "           Party    Wingness  LGBT  BLM  Feminism  >35 kids  <35 kids  \\\n",
       "0     Republican  Right-wing     0    0         0         0         1   \n",
       "1     Republican  Right-wing     0    0         0         0         1   \n",
       "2     Republican  Right-wing     0    0         1         1         0   \n",
       "3    Independent    Centrist     1    1         1         0         2   \n",
       "4    Independent    Centrist     1    1         1         0         2   \n",
       "..           ...         ...   ...  ...       ...       ...       ...   \n",
       "233   Democratic   Left-wing     1    1         1         2         0   \n",
       "234   Democratic   Left-wing     1    1         1         2         1   \n",
       "235   Democratic   Left-wing     1    1         1         0         2   \n",
       "236   Democratic   Left-wing     1    1         1         0         4   \n",
       "237  Independent    Centrist     1    0         1         1         2   \n",
       "\n",
       "     wifeLGBT  wifeBLM  wifeFeminism  Leftism  wifeLeftism  \n",
       "0        -1.0     -1.0          -1.0        0            0  \n",
       "1        -1.0     -1.0          -1.0        0            0  \n",
       "2        -1.0      0.5          -1.0        0            0  \n",
       "3         0.5      0.5           0.5        1            1  \n",
       "4         0.5      1.0           0.5        1            1  \n",
       "..        ...      ...           ...      ...          ...  \n",
       "233       0.5      1.0           1.0        1            1  \n",
       "234       1.0      1.0           1.0        1            1  \n",
       "235       1.0      1.0           1.0        1            1  \n",
       "236       1.0      1.0           1.0        1            1  \n",
       "237       1.0      1.0           1.0        0            1  \n",
       "\n",
       "[238 rows x 12 columns]"
      ]
     },
     "execution_count": 11,
     "metadata": {},
     "output_type": "execute_result"
    }
   ],
   "source": [
    "df"
   ]
  },
  {
   "cell_type": "code",
   "execution_count": null,
   "id": "bc4c7125",
   "metadata": {},
   "outputs": [],
   "source": []
  },
  {
   "cell_type": "code",
   "execution_count": 27,
   "id": "80a89fff",
   "metadata": {},
   "outputs": [
    {
     "name": "stdout",
     "output_type": "stream",
     "text": [
      "P(Woke|>35) = 0.39906103286384975 [0.31302803581076444, 0.48509402991693507] n=129\n",
      "P(Woke|<35) = 0.4438040345821326 [0.3723188162259539, 0.5152892529383112] n=187\n"
     ]
    },
    {
     "name": "stderr",
     "output_type": "stream",
     "text": [
      "/var/folders/2w/sy40wmhs0zs6mfg2mnj_7qlh0000gn/T/ipykernel_41709/2926826660.py:3: SettingWithCopyWarning: \n",
      "A value is trying to be set on a copy of a slice from a DataFrame.\n",
      "Try using .loc[row_indexer,col_indexer] = value instead\n",
      "\n",
      "See the caveats in the documentation: https://pandas.pydata.org/pandas-docs/stable/user_guide/indexing.html#returning-a-view-versus-a-copy\n",
      "  df2['WeightedWoke'] = df2['>35 kids'] * df2['Leftism']\n",
      "/var/folders/2w/sy40wmhs0zs6mfg2mnj_7qlh0000gn/T/ipykernel_41709/2926826660.py:4: SettingWithCopyWarning: \n",
      "A value is trying to be set on a copy of a slice from a DataFrame.\n",
      "Try using .loc[row_indexer,col_indexer] = value instead\n",
      "\n",
      "See the caveats in the documentation: https://pandas.pydata.org/pandas-docs/stable/user_guide/indexing.html#returning-a-view-versus-a-copy\n",
      "  df3['WeightedWoke'] = df3['<35 kids'] * df3['Leftism']\n"
     ]
    }
   ],
   "source": [
    "df2 = df[ df['>35 kids'] > 0] #>35 fathers\n",
    "df3 = df[ df['<35 kids'] > 0] #<35 fathers\n",
    "df2['WeightedWoke'] = df2['>35 kids'] * df2['Leftism']\n",
    "df3['WeightedWoke'] = df3['<35 kids'] * df3['Leftism']\n",
    "oldMean = df2['WeightedWoke'].sum() / df2['>35 kids'].sum()\n",
    "oldSE = df2['Leftism'].sem()\n",
    "youngMean = df3['WeightedWoke'].sum() / df3['<35 kids'].sum()\n",
    "youngSE = df3['Leftism'].sem()\n",
    "\n",
    "OVER35FATHERSWEIGHTED = oldMean\n",
    "UNDER35FATHERSWEIGHTED = youngMean\n",
    "OVER35FATHERSWEIGHTEDSE = oldSE * 1.96\n",
    "UNDER35FATHERSWEIGHTEDSE = youngSE * 1.96\n",
    "\n",
    "print(\"P(Woke|>35) = {} [{}, {}] n={}\".format(oldMean, oldMean - (1.96*oldSE), oldMean + (1.96*oldSE), len(df2['Leftism'])  ))\n",
    "print(\"P(Woke|<35) = {} [{}, {}] n={}\".format(youngMean, youngMean - (1.96*youngSE), youngMean + (1.96*youngSE), len(df3['Leftism'])  ))"
   ]
  },
  {
   "cell_type": "code",
   "execution_count": 28,
   "id": "aa9d6d34",
   "metadata": {},
   "outputs": [
    {
     "name": "stdout",
     "output_type": "stream",
     "text": [
      "P(Woke|>35) = 0.4418604651162791 [0.35582746806319376, 0.5278934621693644] n=129\n",
      "P(Woke|<35) = 0.44919786096256686 [0.3777126426063882, 0.5206830793187455] n=187\n"
     ]
    }
   ],
   "source": [
    "oldMean = df2['Leftism'].mean()\n",
    "oldSE = df2['Leftism'].sem()\n",
    "youngMean = df3['Leftism'].mean()\n",
    "youngSE = df3['Leftism'].sem()\n",
    "OVER35FATHERS = oldMean\n",
    "UNDER35FATHERS = youngMean\n",
    "OVER35FATHERSSE = oldSE * 1.96\n",
    "UNDER35FATHERSSE = youngSE * 1.96\n",
    "\n",
    "print(\"P(Woke|>35) = {} [{}, {}] n={}\".format(oldMean, oldMean - (1.96*oldSE), oldMean + (1.96*oldSE), len(df2['Leftism'])  ))\n",
    "print(\"P(Woke|<35) = {} [{}, {}] n={}\".format(youngMean, youngMean - (1.96*youngSE), youngMean + (1.96*youngSE), len(df3['Leftism'])  ))"
   ]
  },
  {
   "cell_type": "code",
   "execution_count": 29,
   "id": "26e6a9f1",
   "metadata": {},
   "outputs": [
    {
     "data": {
      "image/png": "[encoded data removed]",
      "text/plain": [
       "<Figure size 800x600 with 1 Axes>"
      ]
     },
     "metadata": {},
     "output_type": "display_data"
    }
   ],
   "source": [
    "OVER35SONS = .576 #hardcoded from the other dataset\n",
    "UNDER35SONS = .48\n",
    "OVER35SONSSE = 0.048\n",
    "UNDER35SONSSE = 0.02\n",
    "\n",
    "# Let's suppose these are your probabilities and confidence intervals\n",
    "probs = np.array([OVER35SONS, UNDER35SONS, OVER35FATHERS, UNDER35FATHERS, OVER35FATHERSWEIGHTED, UNDER35FATHERSWEIGHTED])\n",
    "conf_intervals = np.array([OVER35SONSSE, UNDER35SONSSE, OVER35FATHERSSE, UNDER35FATHERSSE, OVER35FATHERSSE, UNDER35FATHERSSE])\n",
    "labels = ['Sons of >35', 'Sons of <35', '>35 fathers', '<35 fathers', '>35 fathers weighted', '<35 fathers weighted']\n",
    "\n",
    "# Create an array of x values - it's just an index for your four probabilities\n",
    "x = np.arange(len(probs))\n",
    "\n",
    "# Create the scatter plot with error bars\n",
    "plt.figure(figsize=(8, 6))\n",
    "for i in range(len(probs)):\n",
    "    plt.errorbar(x[i], probs[i], yerr=conf_intervals[i], fmt='o', label=labels[i])\n",
    "\n",
    "# Remove x-axis labels\n",
    "plt.gca().axes.get_xaxis().set_ticks([])\n",
    "\n",
    "# Add y label, legend and title\n",
    "plt.ylabel('Leftism Probability')\n",
    "plt.legend(loc='best')\n",
    "plt.title('Leftism Probabilities with 95% Confidence Intervals')\n",
    "\n",
    "# Show the plot\n",
    "plt.show()"
   ]
  },
  {
   "cell_type": "code",
   "execution_count": 31,
   "id": "a51e24eb",
   "metadata": {},
   "outputs": [
    {
     "name": "stdout",
     "output_type": "stream",
     "text": [
      "P(Woke|>35) = 0.5070422535211268 [0.42100925646804144, 0.5930752505742121] n=129\n",
      "P(Woke|<35) = 0.5619596541786743 [0.49047443582249567, 0.6334448725348529] n=187\n"
     ]
    },
    {
     "name": "stderr",
     "output_type": "stream",
     "text": [
      "/var/folders/2w/sy40wmhs0zs6mfg2mnj_7qlh0000gn/T/ipykernel_41709/407475904.py:3: SettingWithCopyWarning: \n",
      "A value is trying to be set on a copy of a slice from a DataFrame.\n",
      "Try using .loc[row_indexer,col_indexer] = value instead\n",
      "\n",
      "See the caveats in the documentation: https://pandas.pydata.org/pandas-docs/stable/user_guide/indexing.html#returning-a-view-versus-a-copy\n",
      "  df2['WeightedWoke'] = df2['>35 kids'] * df2['wifeLeftism']\n",
      "/var/folders/2w/sy40wmhs0zs6mfg2mnj_7qlh0000gn/T/ipykernel_41709/407475904.py:4: SettingWithCopyWarning: \n",
      "A value is trying to be set on a copy of a slice from a DataFrame.\n",
      "Try using .loc[row_indexer,col_indexer] = value instead\n",
      "\n",
      "See the caveats in the documentation: https://pandas.pydata.org/pandas-docs/stable/user_guide/indexing.html#returning-a-view-versus-a-copy\n",
      "  df3['WeightedWoke'] = df3['<35 kids'] * df3['wifeLeftism']\n"
     ]
    }
   ],
   "source": [
    "df2 = df[ df['>35 kids'] > 0] #>35 fathers\n",
    "df3 = df[ df['<35 kids'] > 0] #<35 fathers\n",
    "df2['WeightedWoke'] = df2['>35 kids'] * df2['wifeLeftism']\n",
    "df3['WeightedWoke'] = df3['<35 kids'] * df3['wifeLeftism']\n",
    "oldMean = df2['WeightedWoke'].sum() / df2['>35 kids'].sum()\n",
    "oldSE = df2['Leftism'].sem()\n",
    "youngMean = df3['WeightedWoke'].sum() / df3['<35 kids'].sum()\n",
    "youngSE = df3['Leftism'].sem()\n",
    "\n",
    "over35WivesWeighted = oldMean\n",
    "under35WivesWeighted = youngMean\n",
    "over35WivesWeightedSE = oldSE * 1.96\n",
    "under35WivesWeightedSE = youngSE * 1.96\n",
    "\n",
    "print(\"P(Woke|>35) = {} [{}, {}] n={}\".format(oldMean, oldMean - (1.96*oldSE), oldMean + (1.96*oldSE), len(df2['Leftism'])  ))\n",
    "print(\"P(Woke|<35) = {} [{}, {}] n={}\".format(youngMean, youngMean - (1.96*youngSE), youngMean + (1.96*youngSE), len(df3['Leftism'])  ))"
   ]
  },
  {
   "cell_type": "code",
   "execution_count": 32,
   "id": "6a16a941",
   "metadata": {},
   "outputs": [
    {
     "name": "stdout",
     "output_type": "stream",
     "text": [
      "P(Woke|>35) = 0.5581395348837209 [0.4721065378306356, 0.6441725319368062] n=129\n",
      "P(Woke|<35) = 0.5721925133689839 [0.5010883754936362, 0.6432966512443317] n=187\n"
     ]
    }
   ],
   "source": [
    "df2 = df[ df['>35 kids'] > 0] #>35 fathers\n",
    "df3 = df[ df['<35 kids'] > 0] #<35 fathers\n",
    "oldMean = df2['wifeLeftism'].mean()\n",
    "oldSE = df2['wifeLeftism'].sem()\n",
    "youngMean = df3['wifeLeftism'].mean()\n",
    "youngSE = df3['wifeLeftism'].sem()\n",
    "\n",
    "over35Wives = oldMean\n",
    "under35Wives = youngMean\n",
    "over35WivesSE = oldSE * 1.96\n",
    "under35WivesSE = youngSE * 1.96\n",
    "\n",
    "print(\"P(Woke|>35) = {} [{}, {}] n={}\".format(oldMean, oldMean - (1.96*oldSE), oldMean + (1.96*oldSE), len(df2['Leftism'])  ))\n",
    "print(\"P(Woke|<35) = {} [{}, {}] n={}\".format(youngMean, youngMean - (1.96*youngSE), youngMean + (1.96*youngSE), len(df3['Leftism'])  ))"
   ]
  },
  {
   "cell_type": "code",
   "execution_count": 33,
   "id": "68181231",
   "metadata": {},
   "outputs": [
    {
     "data": {
      "image/png": "[encoded data removed]",
      "text/plain": [
       "<Figure size 800x600 with 1 Axes>"
      ]
     },
     "metadata": {},
     "output_type": "display_data"
    }
   ],
   "source": [
    "# Let's suppose these are your probabilities and confidence intervals\n",
    "probs = np.array([over35Wives, under35Wives, over35WivesWeighted, under35WivesWeighted])\n",
    "conf_intervals = np.array([over35WivesSE, under35WivesSE, over35WivesWeightedSE, under35WivesWeightedSE])\n",
    "labels = [ '>35 wives', '<35 wives', '>35 wives weighted', '<35 wives weighted']\n",
    "\n",
    "# Create an array of x values - it's just an index for your four probabilities\n",
    "x = np.arange(len(probs))\n",
    "\n",
    "# Create the scatter plot with error bars\n",
    "plt.figure(figsize=(8, 6))\n",
    "for i in range(len(probs)):\n",
    "    plt.errorbar(x[i], probs[i], yerr=conf_intervals[i], fmt='o', label=labels[i])\n",
    "\n",
    "# Remove x-axis labels\n",
    "plt.gca().axes.get_xaxis().set_ticks([])\n",
    "\n",
    "# Add y label, legend and title\n",
    "plt.ylabel('Leftism Probability')\n",
    "plt.legend(loc='best')\n",
    "plt.title('Leftism Probabilities with 95% Confidence Intervals')\n",
    "\n",
    "# Show the plot\n",
    "plt.show()"
   ]
  },
  {
   "cell_type": "code",
   "execution_count": null,
   "id": "a9750b84",
   "metadata": {},
   "outputs": [],
   "source": []
  }
 ],
 "metadata": {
  "kernelspec": {
   "display_name": "Python 3 (ipykernel)",
   "language": "python",
   "name": "python3"
  },
  "language_info": {
   "codemirror_mode": {
    "name": "ipython",
    "version": 3
   },
   "file_extension": ".py",
   "mimetype": "text/x-python",
   "name": "python",
   "nbconvert_exporter": "python",
   "pygments_lexer": "ipython3",
   "version": "3.8.16"
  }
 },
 "nbformat": 4,
 "nbformat_minor": 5
}
